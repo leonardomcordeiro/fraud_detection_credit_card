{
 "cells": [
  {
   "cell_type": "markdown",
   "id": "377d75dd",
   "metadata": {},
   "source": [
    "# Data\n",
    "\n",
    "\n",
    "\n",
    "Fonte de Dados:\n",
    "https://www.kaggle.com/datasets/mlg-ulb/creditcardfraud?resource=download\n",
    "\n",
    "\n",
    "\n",
    "\n",
    "Referência isolation Forest:\n",
    "https://scikit-learn.org/stable/modules/generated/sklearn.ensemble.IsolationForest.html\n",
    "\n",
    "\n"
   ]
  },
  {
   "cell_type": "markdown",
   "id": "e5eb9ae3",
   "metadata": {},
   "source": [
    "A estimativa de percas com fraudes em cartão de crédito chegam em 5 trilhões de dólares no mundo\n",
    "\n",
    "\n",
    "As variáveis disp   são as componentes principais"
   ]
  }
 ],
 "metadata": {
  "kernelspec": {
   "display_name": "fraud_detection",
   "language": "python",
   "name": "fraud_detection"
  },
  "language_info": {
   "codemirror_mode": {
    "name": "ipython",
    "version": 3
   },
   "file_extension": ".py",
   "mimetype": "text/x-python",
   "name": "python",
   "nbconvert_exporter": "python",
   "pygments_lexer": "ipython3",
   "version": "3.9.13"
  }
 },
 "nbformat": 4,
 "nbformat_minor": 5
}
